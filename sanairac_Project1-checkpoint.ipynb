{
 "cells": [
  {
   "cell_type": "markdown",
   "metadata": {
    "collapsed": true
   },
   "source": [
    "## Understanding the Prime Number Theorem and Primitive Pythagorean Triples"
   ]
  },
  {
   "cell_type": "markdown",
   "metadata": {},
   "source": [
    "Positive integers consist of composite numbers and prime numbers. Composite numbers consist of both even and odd numbers which can be divided by numbers other than $1$ or itself. Prime numbers, on the other hand, are odd numbers greater than $1$ which can only be divisible by $1$ or by itself.\n",
    "\n",
    "$2$ and $3$ are unique, since they are the first two prime numbers and are the only prime numbers which occur consecutively. The pairs of primes which follow differ by 2 or more. The Prime Number Theorem states that the gap between consecutive primes will thin at a precise rate as we move through a string of positive integers. An interpretation of the theorem is that the average density of primes around a large number $x$ approximates to $1/(logx)$, or that the probability of a number $n$ being prime is $1/(logn)$.\n",
    "\n",
    "Pythagorean Triples arise from the Pythagorean Theorem and consist of a triple set of integers $(a, b, c)$, which are defined as:\n",
    "                                 $(a^2 + b^2 = c^2)$.\n",
    "A Pythagorean Triple is considered $primitive$ when  the integers $(a, b, c)$ are coprime. An effective method for generating Pythagorean Triples is based on Euclid's formula, which assumes that $n$ and $m$ are two relatively prime integers with $n - m > 0$ and with $n - m$ being odd. Thus, the integers $(2mn, n^2-m^2, n^2 + m^2)$ can generate all the Primitive Pythagorean Triples and the Pythagorean formula for a right angled triangle with sides $a$, $b$ and $c$ a hypotenuse, can be translated as the following:                                  "
   ]
  },
  {
   "cell_type": "markdown",
   "metadata": {},
   "source": [
    "$(a^2 + b^2 = c^2) <=> (m^2 - n^2)^2 + (2mn)^2 = (m^2 + n^2)^2$"
   ]
  },
  {
   "cell_type": "markdown",
   "metadata": {},
   "source": [
    "The goal of this report is to study the Primitive Number Theorem and Primitive Pythagorean Triples using Python as a tool. By defining functions which determine prime numbers and Pythagorean Triples we will be able to graph these sets. Thus, making it possible to observe and describe the patterns which emerge in these sets of objects. "
   ]
  },
  {
   "cell_type": "markdown",
   "metadata": {},
   "source": [
    "##### The first topic of our study will be the Prime Number Theorem\n",
    "\n",
    "We will begin by importing the modules and packages that will define and implement the functions, classes, or variables that will be used over the course of this report:"
   ]
  },
  {
   "cell_type": "code",
   "execution_count": 147,
   "metadata": {
    "collapsed": true
   },
   "outputs": [],
   "source": [
    "import scipy, pylab\n",
    "import numpy as np\n",
    "import matplotlib.pyplot as plt\n",
    "import math"
   ]
  },
  {
   "cell_type": "markdown",
   "metadata": {},
   "source": [
    "The function $isEven$ will determine even numbers within a parameter $n$:"
   ]
  },
  {
   "cell_type": "code",
   "execution_count": 142,
   "metadata": {
    "collapsed": true
   },
   "outputs": [],
   "source": [
    "def isEven(n):\n",
    "    number=n/2.0\n",
    "    if number == int(number):          #any number divisible by 2 is an even number\n",
    "        return True\n",
    "    elif number == 0:                  #dividing 0 by 2 produces an integer, but 0 is not an even number\n",
    "        return False\n",
    "    else:\n",
    "        return False"
   ]
  },
  {
   "cell_type": "markdown",
   "metadata": {},
   "source": [
    "The function $isprime$ will then determine the prime numbers within the parameter $n$, using the function $isEven$:"
   ]
  },
  {
   "cell_type": "code",
   "execution_count": 143,
   "metadata": {
    "scrolled": false
   },
   "outputs": [],
   "source": [
    "def isprime(n):\n",
    "    if n == 2:\n",
    "        return True\n",
    "    if n == 1:\n",
    "        return False\n",
    "    if isEven(n) is True:\n",
    "        return False\n",
    "    for i in range(3,int(n**0.5)+1,2):   # testing only odd numbers greater than 2 for divisibility\n",
    "        if n%i==0:\n",
    "            return False    \n",
    "    else:\n",
    "        return True"
   ]
  },
  {
   "cell_type": "markdown",
   "metadata": {},
   "source": [
    "Using $isprime$ we can now generate a list of prime numbers:"
   ]
  },
  {
   "cell_type": "code",
   "execution_count": 144,
   "metadata": {},
   "outputs": [],
   "source": [
    "nMax=100000                              # nMax is the upper boundary of the list of prime numbers\n",
    "primelist= [n for n in scipy.arange(2,nMax) if isprime(n)]"
   ]
  },
  {
   "cell_type": "markdown",
   "metadata": {},
   "source": [
    "Now that we have generated a list of prime numbers less than $100,000$, we can use it to produce a histogram which will indicate the density of primes from $0$ to $100,000$. \n",
    "\n",
    "Assuming $x$ is a random positive integer, $x/log(x)$ of the $x$ positive integers less than or equal to $x$ are prime. Thus, the probability of one of them being prime is about $1/log(x)$. We will attempt to test this theory by plotting $1/log(x)$ on our histogram as well."
   ]
  },
  {
   "cell_type": "code",
   "execution_count": 221,
   "metadata": {},
   "outputs": [
    {
     "data": {
      "image/png": "[encoded data removed]",
      "text/plain": [
       "<matplotlib.figure.Figure at 0x2b951e94198>"
      ]
     },
     "metadata": {},
     "output_type": "display_data"
    }
   ],
   "source": [
    "pylab.hist (primelist, bins=40, histtype = 'bar', ec = 'black')       #there will be 40 equal-width bins in the given range\n",
    "x = np.linspace(1000,100000, 20)   \n",
    "y= (100000/40)/np.log(x)                                              #our range of integers will be divided equally into 40 bins\n",
    "pylab.plot(x,y, 'r--', linewidth= 2, alpha=0.75, label = '1/log(x)')  #graphing 1/log(x) and adjusting the opaqueness of the line\n",
    "\n",
    "pylab.xlim(0,100000)                                                  #choose axis limits which reflect the reference frame\n",
    "pylab.ylim(0,390)\n",
    "plt.legend(['1/log(x)'])\n",
    "pylab.xlabel ('Value of x')\n",
    "pylab.ylabel ('Frequency of Primes')\n",
    "pylab.title  ('Fig 1.1: The Density of Prime Numbers', fontsize=13)\n",
    "\n",
    "pylab.show()"
   ]
  },
  {
   "cell_type": "markdown",
   "metadata": {},
   "source": [
    "The $Fig\\ 1.1$ validates the theory that the chance of a random positive integer $x$ being prime is roughly $1/log(x)$.\n",
    "\n",
    "$Fig\\ 1.1$ shows us a pattern in which the occurence of prime numbers decreases, confirming what was stated in the Prime Number Theorem. The frequency of primes declines rapidly at first and oscillates between the integer values $40,000$ and $80,000$ before leveling out, as value of $x$ increases."
   ]
  },
  {
   "cell_type": "markdown",
   "metadata": {},
   "source": [
    "##### Next we will explore Pythagorean Triples and Primitive Pythagorean Triples, observing differences in the pattern in which they occur. \n",
    "\n",
    "We will produce a list of square values called $sqlist$ and apply it in a $'for'$ loop inorder to obtain and plot a set of Pythagorean Triples."
   ]
  },
  {
   "cell_type": "code",
   "execution_count": 219,
   "metadata": {
    "scrolled": true
   },
   "outputs": [
    {
     "data": {
      "image/png": "[encoded data removed]",
      "text/plain": [
       "<matplotlib.figure.Figure at 0x2b945deae48>"
      ]
     },
     "metadata": {},
     "output_type": "display_data"
    }
   ],
   "source": [
    "sqlist = [i**2 for i in range(5000)]\n",
    "sum=500                                         #plotting triples with legs of up to 500\n",
    "for x in range(1,sum):\n",
    "    for y in range(x,sum):\n",
    "        if x * x + y * y in sqlist:                \n",
    "            pylab.plot (x,y, 'ro', markersize=2)\n",
    "          \n",
    "pylab.xlabel('x', fontsize=12)\n",
    "pylab.ylabel('y', fontsize=12)\n",
    "pylab.title ('Fig 1.2: Pythagorean Triples Scatterplot', fontsize=13)\n",
    "\n",
    "pylab.show()"
   ]
  },
  {
   "cell_type": "markdown",
   "metadata": {},
   "source": [
    "The fascinating pattern depicted in the $x-y$ plane of $Fig\\ 1.2$ shows us that the hypotenuse is a function of the sides $x$ and $y$. All triples $(x, y, z)$ are solutions of the Pythagorean formula $z^2= x^2 + y^2$, as shown in $Fig\\ 1.2$ where integer points $(x,y)$ satisfy the equation for some integer $z$. It is thus indicated that that there will be more straight lines through the origin as we plot more triples.\n",
    "\n",
    "We will now proceed to obtain Primitive Pythagorean Triples by first using a function which ensures that the greatest common divisor between any two integers in the triplet is $1$."
   ]
  },
  {
   "cell_type": "code",
   "execution_count": 136,
   "metadata": {},
   "outputs": [],
   "source": [
    "def mygcd(a,b):\n",
    "    while a!=b:\n",
    "        if a<b:\n",
    "            a,b = b,a      # swap so that a is the larger\n",
    "        a = a%b            # mod operator gives remainder \n",
    "        if a==0: return b\n",
    "    return a               # (or b, they are the same at this point)"
   ]
  },
  {
   "cell_type": "markdown",
   "metadata": {},
   "source": [
    "Now that we have the function $mygcd$ we are prepared to generate Primitive Pythagorean Triples using a $'for'$ loop similar to the one used to obtain Pythagorean Triples. Except in this $'for'$ loop the $'if'$ command prompt now will now include another requirement using the $mygcd$ function:"
   ]
  },
  {
   "cell_type": "code",
   "execution_count": 220,
   "metadata": {},
   "outputs": [
    {
     "data": {
      "image/png": "[encoded data removed]",
      "text/plain": [
       "<matplotlib.figure.Figure at 0x2b94f9a37b8>"
      ]
     },
     "metadata": {},
     "output_type": "display_data"
    }
   ],
   "source": [
    "sqlist = [i**2 for i in range(5000)]\n",
    "sum=500                                                     #plotting primitive triples with legs of up to 500\n",
    "for x in range(1,sum):\n",
    "    for y in range(x,sum):\n",
    "        if x * x + y * y in sqlist and gcd (x, y)==1:               \n",
    "            if x%2 ==0: pylab.plot (x,y, 'ro', markersize=2)\n",
    "            else:       pylab.plot (y,x, 'bo', markersize=2)\n",
    "\n",
    "pylab.xlabel('x', fontsize=12)\n",
    "pylab.ylabel('y', fontsize=12)\n",
    "pylab.title ('Fig 1.3: Primitive Pythagorean Triples Scatterplot', fontsize=13)\n",
    "                \n",
    "pylab.show()"
   ]
  },
  {
   "cell_type": "markdown",
   "metadata": {},
   "source": [
    "In $Fig\\ 1.3$ the straight lines disappear and a series of curves become more prominent. This is apparent in the $'reflections'$ of each triple, seen in the blue points which are reflections of the red. The scatter plot is denser closer to the origin and the points become increasingly spaced out as they are plotted further away from the origin, indicating that the path to primitive triplets with consecutive legs becomes increasingly longer."
   ]
  },
  {
   "cell_type": "markdown",
   "metadata": {},
   "source": [
    "#### Conclusion\n",
    "\n",
    "The patterns we observe in $Fig\\ 1.1$, $Fig\\ 1.2$ and $Fig\\ 1.3$ are all indicative of the unique nature of prime numbers.\n",
    "\n",
    "The Prime Number Theorem indicates that as we the sequence of prime numbers the interval between each indicidividual, consecutive prime number will increase and we will find fewer primes within a given interval of fixed length. The histogram in $Fig\\ 1.1$ did the task of showing us the occurence of this pattern, while also comparing the predictability of the sequence to $1/log(x)$, which can approximate the average density of primes according to the Prime Number Theorem.\n",
    "\n",
    "Pythagorean Triples and Primitive Pythagorean Triples are indicative of the hypotenuse-side differences of right-angled triangles. There are more patterns present in the triple integers of all Pythagorean Triples, versus a more restricted series of patterns present in Primitive Pythagorean Triples as shown in the differences between $Fig\\ 1.2$ and $Fig\\ 1.3$. It is interesting to note that not all Pythagorean Triples can be generated using Euclid's formula for determining Pythagorean Triples, while essentially all Primitive Pythagorean Triples follow Euclid's formula. "
   ]
  },
  {
   "cell_type": "markdown",
   "metadata": {
    "collapsed": true
   },
   "source": [
    "$References:$\n",
    "    \n",
    "   [1] G.J.O Jameson, The Prime Number Theorem, Lancaster: Cambridge University Press, 2003.\n",
    "   \n",
    "   [2] B. Fine, G. Rosenberger, Number Theory, An Introduction via the Distribution of Primes, Boston: Springer Science and            Business Media, 2007.\n",
    "   \n",
    "   [3] H. Riesel, Prime Numbers and Computer Methods for Factorization, 2nd Ed. Stockholm: Springer Science and Business Media,        2012."
   ]
  }
 ],
 "metadata": {
  "kernelspec": {
   "display_name": "Python 3",
   "language": "python",
   "name": "python3"
  },
  "language_info": {
   "codemirror_mode": {
    "name": "ipython",
    "version": 3
   },
   "file_extension": ".py",
   "mimetype": "text/x-python",
   "name": "python",
   "nbconvert_exporter": "python",
   "pygments_lexer": "ipython3",
   "version": "3.6.3"
  }
 },
 "nbformat": 4,
 "nbformat_minor": 2
}
